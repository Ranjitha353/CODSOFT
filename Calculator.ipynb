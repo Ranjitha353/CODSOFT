{
  "nbformat": 4,
  "nbformat_minor": 0,
  "metadata": {
    "colab": {
      "provenance": [],
      "authorship_tag": "ABX9TyOIbCKYdQnD81SkP4fA0VY/",
      "include_colab_link": true
    },
    "kernelspec": {
      "name": "python3",
      "display_name": "Python 3"
    },
    "language_info": {
      "name": "python"
    }
  },
  "cells": [
    {
      "cell_type": "markdown",
      "metadata": {
        "id": "view-in-github",
        "colab_type": "text"
      },
      "source": [
        "<a href=\"https://colab.research.google.com/github/Ranjitha353/CODSOFT/blob/python/Calculator.ipynb\" target=\"_parent\"><img src=\"https://colab.research.google.com/assets/colab-badge.svg\" alt=\"Open In Colab\"/></a>"
      ]
    },
    {
      "cell_type": "code",
      "execution_count": 1,
      "metadata": {
        "colab": {
          "base_uri": "https://localhost:8080/"
        },
        "id": "u-Zx5vsGoSvl",
        "outputId": "53f29a6b-526b-4e02-da8a-9a14e8d06a25"
      },
      "outputs": [
        {
          "output_type": "stream",
          "name": "stdout",
          "text": [
            "Select operation:\n",
            "1. Addition\n",
            "2. Subtraction\n",
            "3. Multiplication\n",
            "4. Division\n",
            "Enter choice (1/2/3/4): 2\n",
            "Enter first number: 23\n",
            "Enter second number: 45\n",
            "Result:  -22.0\n"
          ]
        }
      ],
      "source": [
        "def addition(x, y):\n",
        "    return x + y\n",
        "\n",
        "def subtraction(x, y):\n",
        "    return x - y\n",
        "\n",
        "def multiplication(x, y):\n",
        "    return x * y\n",
        "\n",
        "def division(x, y):\n",
        "    if y == 0:\n",
        "        return \"Error! Division by zero.\"\n",
        "    return x / y\n",
        "\n",
        "print(\"Select operation:\")\n",
        "print(\"1. Addition\")\n",
        "print(\"2. Subtraction\")\n",
        "print(\"3. Multiplication\")\n",
        "print(\"4. Division\")\n",
        "\n",
        "choice = input(\"Enter choice (1/2/3/4): \")\n",
        "\n",
        "num1 = float(input(\"Enter first number: \"))\n",
        "num2 = float(input(\"Enter second number: \"))\n",
        "\n",
        "if choice == '1':\n",
        "    print(\"Result: \", addition(num1, num2))\n",
        "elif choice == '2':\n",
        "    print(\"Result: \", subtraction(num1, num2))\n",
        "elif choice == '3':\n",
        "    print(\"Result: \", multiplication(num1, num2))\n",
        "elif choice == '4':\n",
        "    print(\"Result: \", division(num1, num2))\n",
        "else:\n",
        "    print(\"Invalid input. Please enter a valid choice.\")\n",
        "\n"
      ]
    }
  ]
}