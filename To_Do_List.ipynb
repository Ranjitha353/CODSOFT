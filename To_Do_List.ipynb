{
  "nbformat": 4,
  "nbformat_minor": 0,
  "metadata": {
    "colab": {
      "provenance": [],
      "authorship_tag": "ABX9TyO0u44uRq3dym0OYk/5uC8i",
      "include_colab_link": true
    },
    "kernelspec": {
      "name": "python3",
      "display_name": "Python 3"
    },
    "language_info": {
      "name": "python"
    }
  },
  "cells": [
    {
      "cell_type": "markdown",
      "metadata": {
        "id": "view-in-github",
        "colab_type": "text"
      },
      "source": [
        "<a href=\"https://colab.research.google.com/github/Ranjitha353/CODSOFT/blob/python/To_Do_List.ipynb\" target=\"_parent\"><img src=\"https://colab.research.google.com/assets/colab-badge.svg\" alt=\"Open In Colab\"/></a>"
      ]
    },
    {
      "cell_type": "code",
      "execution_count": 3,
      "metadata": {
        "colab": {
          "base_uri": "https://localhost:8080/"
        },
        "id": "4OCD4s0lglVq",
        "outputId": "96d71fa2-4c14-4341-b239-1c3dd080c60f"
      },
      "outputs": [
        {
          "output_type": "stream",
          "name": "stdout",
          "text": [
            "To-Do List Menu:\n",
            "1. Add a task\n",
            "2. View tasks\n",
            "3. Mark task as completed\n",
            "4. Exit\n",
            "Enter your choice: 1\n",
            "Enter the task: code\n",
            "Task added successfully!\n",
            "To-Do List Menu:\n",
            "1. Add a task\n",
            "2. View tasks\n",
            "3. Mark task as completed\n",
            "4. Exit\n",
            "Enter your choice: 4\n",
            "Exiting the program. Goodbye!\n"
          ]
        }
      ],
      "source": [
        "from typing import Optional\n",
        "tasks = []\n",
        "\n",
        "def list():\n",
        "    print(\"To-Do List Menu:\")\n",
        "    print(\"1. Add a task\")\n",
        "    print(\"2. View tasks\")\n",
        "    print(\"3. Mark task as completed\")\n",
        "    print(\"4. Exit\")\n",
        "\n",
        "def addTask():\n",
        "    task = input(\"Enter the task: \")\n",
        "    tasks.append(task)\n",
        "    print(\"Task added successfully!\")\n",
        "\n",
        "def viewTasks():\n",
        "    if not tasks:\n",
        "        print(\"No tasks in the list.\")\n",
        "    else:\n",
        "        print(\"Tasks:\")\n",
        "        for index, task in enumerate(tasks, start=1):\n",
        "            print(f\"{index}. {task}\")\n",
        "\n",
        "def completed():\n",
        "    view_tasks()\n",
        "    task_number= int(input(\"Enter the task number to mark as completed: \"))\n",
        "    if 1 <= task_number <= len(tasks):\n",
        "        print(f\"Task '{tasks[task_number - 1]}' marked as completed.\")\n",
        "        del tasks[task_number - 1]\n",
        "    else:\n",
        "        print(\"Invalid task number.\")\n",
        "\n",
        "while True:\n",
        "    list()\n",
        "    option = input(\"Enter your choice: \")\n",
        "\n",
        "    if option == '1':\n",
        "        addTask()\n",
        "    elif option == '2':\n",
        "        viewTasks()\n",
        "    elif option == '3':\n",
        "        completed()\n",
        "    elif option == '4':\n",
        "        print(\"Exiting the program. Goodbye!\")\n",
        "        break\n",
        "    else:\n",
        "        print(\"Invalid choice. Please try again.\")"
      ]
    }
  ]
}