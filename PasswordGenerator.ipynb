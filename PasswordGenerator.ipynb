{
  "nbformat": 4,
  "nbformat_minor": 0,
  "metadata": {
    "colab": {
      "provenance": [],
      "authorship_tag": "ABX9TyNmwlAVqR0hfowkxycBQ9rS",
      "include_colab_link": true
    },
    "kernelspec": {
      "name": "python3",
      "display_name": "Python 3"
    },
    "language_info": {
      "name": "python"
    }
  },
  "cells": [
    {
      "cell_type": "markdown",
      "metadata": {
        "id": "view-in-github",
        "colab_type": "text"
      },
      "source": [
        "<a href=\"https://colab.research.google.com/github/Ranjitha353/CODSOFT/blob/python/PasswordGenerator.ipynb\" target=\"_parent\"><img src=\"https://colab.research.google.com/assets/colab-badge.svg\" alt=\"Open In Colab\"/></a>"
      ]
    },
    {
      "cell_type": "code",
      "execution_count": 3,
      "metadata": {
        "colab": {
          "base_uri": "https://localhost:8080/"
        },
        "id": "ofocBR2Rp5aG",
        "outputId": "308aa6e6-fcf0-4318-92e9-dca4abd3f634"
      },
      "outputs": [
        {
          "output_type": "stream",
          "name": "stdout",
          "text": [
            "Enter the length of the password you want to generate: 9\n",
            "Generated Password: )+xIT}D+?\n"
          ]
        }
      ],
      "source": [
        "import random\n",
        "import string\n",
        "\n",
        "\n",
        "def password_generator(length):\n",
        "    characters = string.ascii_letters + string.digits + string.punctuation\n",
        "    password = ''.join(random.choice(characters) for i in range(length))\n",
        "    return password\n",
        "\n",
        "\n",
        "length = int(input(\"Enter the length of the password you want to generate: \"))\n",
        "\n",
        "password = password_generator(length)\n",
        "\n",
        "print(\"Generated Password:\", password)"
      ]
    }
  ]
}